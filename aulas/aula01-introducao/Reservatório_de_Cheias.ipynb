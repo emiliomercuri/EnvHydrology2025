{
  "nbformat": 4,
  "nbformat_minor": 0,
  "metadata": {
    "colab": {
      "provenance": [],
      "authorship_tag": "ABX9TyOejiexTXnsVFI06IM5RUW5",
      "include_colab_link": true
    },
    "kernelspec": {
      "name": "python3",
      "display_name": "Python 3"
    },
    "language_info": {
      "name": "python"
    }
  },
  "cells": [
    {
      "cell_type": "markdown",
      "metadata": {
        "id": "view-in-github",
        "colab_type": "text"
      },
      "source": [
        "<a href=\"https://colab.research.google.com/github/emiliomercuri/EnvHydrology2025/blob/main/aulas/aula01-introducao/Reservato%CC%81rio_de_Cheias.ipynb\" target=\"_parent\"><img src=\"https://colab.research.google.com/assets/colab-badge.svg\" alt=\"Open In Colab\"/></a>"
      ]
    },
    {
      "cell_type": "markdown",
      "metadata": {
        "id": "jJW9HGKJRCt-"
      },
      "source": [
        "## Solução do Exemplo 2 - Reservatório de Cheias\n",
        "\n",
        "Resolução via método das diferenças finitas da equação:\n",
        "\n",
        "$$\n",
        "\\begin{aligned}\n",
        "\\frac{\\mathrm{d} H}{\\mathrm{~d} t}+b H^{3 / 2} &=f(t) \\\\\n",
        "b &=\\frac{\\alpha \\sqrt{g} L}{A}, \\quad f(t)=\\frac{I(t)}{A}\n",
        "\\end{aligned}\n",
        "$$\n",
        "\n",
        "Com condição inicial $H(0) = 0$ e $f(t)$ variando como:\n",
        "\n",
        "$$\n",
        "I(t)=\\left\\{\\begin{array}{ll}\n",
        "t / 360, & 0 \\leq t \\leq 3600 \\\\\n",
        "50 / 3-t / 540 & 3600<t \\leq 9000\n",
        "\\end{array}\\right.\n",
        "$$"
      ]
    },
    {
      "cell_type": "markdown",
      "metadata": {
        "id": "bHhMfPsPRd3k"
      },
      "source": [
        "Discretização em diferenças finitas:\n",
        "\n",
        "$$\n",
        "\\frac{H_{n+1} - H_{n}}{\\Delta t} + b H_n^{3/2} = f(t_n)\n",
        "$$\n",
        "\n",
        "$$\n",
        "H_{n+1} = H_n + \\Delta t \\left[f(t_n)- b H_n^{3/2}\\right]\n",
        "$$\n"
      ]
    },
    {
      "cell_type": "code",
      "metadata": {
        "id": "62PXbd3GSe1-"
      },
      "source": [
        "from math import sqrt\n",
        "import numpy as np"
      ],
      "execution_count": 1,
      "outputs": []
    },
    {
      "cell_type": "code",
      "metadata": {
        "id": "cFMp-fHEPu9D"
      },
      "source": [
        "# Área do reservatório\n",
        "A    = 100000.0 # m2\n",
        "alfa = 0.493\n",
        "g    = 9.81\n",
        "L    = 20.0\n",
        "b    = alfa*sqrt(g)*L/A"
      ],
      "execution_count": 2,
      "outputs": []
    },
    {
      "cell_type": "code",
      "metadata": {
        "id": "a7wOM0riRCAF"
      },
      "source": [
        "# hidrógrafa afluente (m3/s/m2)\n",
        "def f(t):\n",
        "  if t <= 3600:\n",
        "    return (t/360.0)/A\n",
        "  elif t <= 9000:\n",
        "    return (50.0/3.0 - t/540.0)/A\n",
        "  else:\n",
        "    return 0.0"
      ],
      "execution_count": 3,
      "outputs": []
    },
    {
      "cell_type": "code",
      "metadata": {
        "id": "A_sKQk_8TV1a"
      },
      "source": [
        "Alturas   = []\n",
        "Qafluente = []\n",
        "Vazoes    = []\n",
        "Tempo     = []"
      ],
      "execution_count": 4,
      "outputs": []
    },
    {
      "cell_type": "markdown",
      "source": [
        "Discretização em diferenças finitas:\n",
        "\n",
        "$$\n",
        "\\frac{H_{n+1} - H_{n}}{\\Delta t} + b H_n^{3/2} = f(t_n)\n",
        "$$\n",
        "\n",
        "$$\n",
        "H_{n+1} = H_n + \\Delta t \\left[f(t_n)- b H_n^{3/2}\\right]\n",
        "$$\n"
      ],
      "metadata": {
        "id": "aXZ4ol7ePJqt"
      }
    },
    {
      "cell_type": "code",
      "metadata": {
        "id": "fTyWmxNdTdPZ"
      },
      "source": [
        "tempo = 0\n",
        "H = 0\n",
        "deltat = 60\n",
        "while tempo < 36000:\n",
        "  #print(tempo)\n",
        "  tempo = tempo + deltat\n",
        "  I = A*f(tempo)\n",
        "  H = H + deltat*(f(tempo)-b*H**1.5)\n",
        "  Q = b*A*H**1.5\n",
        "  Alturas.append(H)\n",
        "  Vazoes.append(Q)\n",
        "  Tempo.append(tempo)\n",
        "  Qafluente.append(I)\n"
      ],
      "execution_count": 5,
      "outputs": []
    },
    {
      "cell_type": "code",
      "metadata": {
        "id": "WsFfPt39Ukjl"
      },
      "source": [
        "#Tempo"
      ],
      "execution_count": null,
      "outputs": []
    },
    {
      "cell_type": "code",
      "metadata": {
        "id": "0_jNwywHUoOd"
      },
      "source": [
        "# Importando as bibliotecas\n",
        "import numpy\n",
        "import matplotlib.pyplot as plt\n",
        "%matplotlib inline"
      ],
      "execution_count": 6,
      "outputs": []
    },
    {
      "cell_type": "code",
      "metadata": {
        "colab": {
          "base_uri": "https://localhost:8080/",
          "height": 457
        },
        "id": "1eviBhjQU5Cq",
        "outputId": "4bc553fd-6fa4-4a74-ca13-43087800305b"
      },
      "source": [
        "fig, ax = plt.subplots()\n",
        "ax.tick_params(axis='both', labelsize=12) #increase font size for ticks\n",
        "plt.ylabel(r'Vazão (m$^3$/s)', fontsize=12) #y label\n",
        "plt.xlabel(r'Tempo (s)', fontsize=12) #y label\n",
        "ax.plot(Tempo, Vazoes, label='Vazão efluente')\n",
        "ax.plot(Tempo, Qafluente, label='Vazão afluente')\n",
        "ax.legend()\n",
        "plt.show()"
      ],
      "execution_count": 8,
      "outputs": [
        {
          "output_type": "display_data",
          "data": {
            "text/plain": [
              "<Figure size 640x480 with 1 Axes>"
            ],
            "image/png": "[encoded data removed]"
          },
          "metadata": {}
        }
      ]
    },
    {
      "cell_type": "code",
      "source": [
        "Qafluente[0:15], Vazoes[0:15]"
      ],
      "metadata": {
        "colab": {
          "base_uri": "https://localhost:8080/"
        },
        "id": "Nc7-s90POw9V",
        "outputId": "2a98db48-7922-432b-84bb-20fb8cf37bc8"
      },
      "execution_count": 9,
      "outputs": [
        {
          "output_type": "execute_result",
          "data": {
            "text/plain": [
              "([0.16666666666666666,\n",
              "  0.3333333333333333,\n",
              "  0.5,\n",
              "  0.6666666666666666,\n",
              "  0.8333333333333334,\n",
              "  1.0,\n",
              "  1.1666666666666667,\n",
              "  1.3333333333333333,\n",
              "  1.5,\n",
              "  1.6666666666666667,\n",
              "  1.8333333333333333,\n",
              "  2.0,\n",
              "  2.1666666666666665,\n",
              "  2.3333333333333335,\n",
              "  2.5],\n",
              " [3.088242665335741e-05,\n",
              "  0.00016045492921334926,\n",
              "  0.00045374686467611016,\n",
              "  0.0009760211504396069,\n",
              "  0.0017923620829455073,\n",
              "  0.00296759557594262,\n",
              "  0.004566222753386888,\n",
              "  0.006652356234496017,\n",
              "  0.009289657608584356,\n",
              "  0.01254127583025764,\n",
              "  0.01646978652581009,\n",
              "  0.021137132272018768,\n",
              "  0.02660456393012446,\n",
              "  0.03293258312420824,\n",
              "  0.04018088595408648])"
            ]
          },
          "metadata": {},
          "execution_count": 9
        }
      ]
    },
    {
      "cell_type": "code",
      "metadata": {
        "id": "orO_debQVHnu",
        "colab": {
          "base_uri": "https://localhost:8080/"
        },
        "outputId": "8d9f21c2-f15e-4acd-b977-a922539a2e6b"
      },
      "source": [
        "Qafluente.index(10)"
      ],
      "execution_count": 10,
      "outputs": [
        {
          "output_type": "execute_result",
          "data": {
            "text/plain": [
              "59"
            ]
          },
          "metadata": {},
          "execution_count": 10
        }
      ]
    },
    {
      "cell_type": "code",
      "metadata": {
        "colab": {
          "base_uri": "https://localhost:8080/"
        },
        "id": "Pl3sqM41s94M",
        "outputId": "5cc90580-4a49-4972-a971-e9e8bce00b90"
      },
      "source": [
        "Vazoes[59]"
      ],
      "execution_count": 11,
      "outputs": [
        {
          "output_type": "execute_result",
          "data": {
            "text/plain": [
              "2.050226205590782"
            ]
          },
          "metadata": {},
          "execution_count": 11
        }
      ]
    },
    {
      "cell_type": "code",
      "source": [
        "t_min = np.array(Tempo)/60\n",
        "q_afl = np.array(Qafluente)"
      ],
      "metadata": {
        "id": "YVrueXvAaH3b"
      },
      "execution_count": 12,
      "outputs": []
    },
    {
      "cell_type": "code",
      "source": [
        "len(t_min)"
      ],
      "metadata": {
        "colab": {
          "base_uri": "https://localhost:8080/"
        },
        "id": "pwtvKKMCaSjW",
        "outputId": "baaaa6d7-c40d-49f7-ac9a-cfb3c7dab60d"
      },
      "execution_count": 13,
      "outputs": [
        {
          "output_type": "execute_result",
          "data": {
            "text/plain": [
              "600"
            ]
          },
          "metadata": {},
          "execution_count": 13
        }
      ]
    },
    {
      "cell_type": "code",
      "metadata": {
        "id": "7-vm1ktUtZVF",
        "colab": {
          "base_uri": "https://localhost:8080/",
          "height": 457
        },
        "outputId": "5b08efb7-dabb-49ff-ac9f-f6aea61418df"
      },
      "source": [
        "fig, ax = plt.subplots()\n",
        "ax.tick_params(axis='both', labelsize=12) #increase font size for ticks\n",
        "plt.ylabel(r'Vazão (m$^3$/s)', fontsize=12) #y label\n",
        "plt.xlabel(r'Tempo (min)', fontsize=12) #y label\n",
        "ax.plot(t_min[0:300], q_afl[0:300], label='Vazão afluente')\n",
        "ax.legend()\n",
        "ax.legend(loc=\"upper right\",bbox_to_anchor=(0.97, 0.95), frameon=False, fontsize=12)\n",
        "plt.savefig('afluente.pdf', dpi = 300, bbox_inches='tight')\n",
        "plt.show()"
      ],
      "execution_count": 14,
      "outputs": [
        {
          "output_type": "display_data",
          "data": {
            "text/plain": [
              "<Figure size 640x480 with 1 Axes>"
            ],
            "image/png": "[encoded data removed]"
          },
          "metadata": {}
        }
      ]
    },
    {
      "cell_type": "code",
      "source": [],
      "metadata": {
        "id": "ga7qEVVFZ093"
      },
      "execution_count": null,
      "outputs": []
    }
  ]
}